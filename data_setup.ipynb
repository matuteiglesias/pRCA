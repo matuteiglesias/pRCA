{
 "cells": [
  {
   "cell_type": "code",
   "execution_count": 3,
   "metadata": {
    "collapsed": false
   },
   "outputs": [
    {
     "name": "stdout",
     "output_type": "stream",
     "text": [
      "Warning: No module named graph_tool found.\n"
     ]
    }
   ],
   "source": [
    "import pandas as pd\n",
    "import numpy as np\n",
    "import matplotlib.pyplot as plt\n",
    "import binet as bt\n",
    "%matplotlib inline"
   ]
  },
  {
   "cell_type": "markdown",
   "metadata": {},
   "source": [
    "### Import raw data"
   ]
  },
  {
   "cell_type": "code",
   "execution_count": 4,
   "metadata": {
    "collapsed": false
   },
   "outputs": [],
   "source": [
    "#Either directly from Atlas of Economic Complexity\n",
    "\n",
    "# wt, pr, co = bt.trade_data('hs02')\n",
    "# wt = wt[(wt.ccode != 'xxa')&(wt.ccode != 'xxb')]\n",
    "\n",
    "#Or from file if you have it.\n",
    "wt = pd.read_csv('wt.csv')\n",
    "pr = pd.read_csv('pr.csv')\n",
    "co = pd.read_csv('co.csv')"
   ]
  },
  {
   "cell_type": "code",
   "execution_count": 9,
   "metadata": {
    "collapsed": false
   },
   "outputs": [
    {
     "data": {
      "text/plain": [
       "1735634"
      ]
     },
     "execution_count": 9,
     "metadata": {},
     "output_type": "execute_result"
    }
   ],
   "source": [
    "len(wt)"
   ]
  },
  {
   "cell_type": "markdown",
   "metadata": {},
   "source": [
    "### Example RCAs\n",
    "#### This is just to look into how the RCA of some c, p, y comes about."
   ]
  },
  {
   "cell_type": "code",
   "execution_count": 3,
   "metadata": {
    "collapsed": false
   },
   "outputs": [
    {
     "name": "stdout",
     "output_type": "stream",
     "text": [
      "RCA of United States in Copper springs., in year 2011\n",
      "\n",
      "(xcp / Xc) / ( Xp / X) = (1.78E+3 / 1.37E+12) / ( 1.78E+3 / 1.77E+13)\n",
      "1.30148809426e-07% / 1.00730287963e-08% = 12.9205239118\n",
      " \n",
      "\n",
      "RCA of Italy in Motor cars and other motor vehicles principally designed for the transport  ..., in year 2014\n",
      "\n",
      "(xcp / Xc) / ( Xp / X) = (1.20E+10 / 5.11E+11) / ( 7.00E+11 / 1.73E+13)\n",
      "2.35732129213% / 4.04360417706% = 0.58297528366\n",
      " \n",
      "\n"
     ]
    }
   ],
   "source": [
    "from decimal import Decimal\n",
    "\n",
    "def example_RCA(ccode, pcode, year):\n",
    "\n",
    "    print 'RCA of '+co.loc[co.ccode == ccode]['name'].values[0]+' in '+pr.loc[pr.pcode == pcode]['name'].values[0]+', in year '+str(year)+'\\n'\n",
    "\n",
    "    xcp = wt.loc[(wt.ccode == ccode)&(wt.pcode == pcode)&(wt.year == year)]['x'].values[0]\n",
    "    Xc = wt.loc[(wt.ccode == ccode)&(wt.year == year)]['x'].sum()\n",
    "    Xp = wt.loc[(wt.pcode == pcode)&(wt.year == year)]['x'].sum()\n",
    "    X = wt.loc[wt.year == year]['x'].sum()\n",
    "    RCA = np.true_divide(xcp * X, Xc * Xp)\n",
    "\n",
    "    print '(xcp / Xc) / ( Xp / X) = ('+str(\"{:.2E}\".format(Decimal(xcp)))+' / '+str(\"{:.2E}\".format(Decimal(Xc)))+') / ( '+str(\"{:.2E}\".format(Decimal(Xp)))+' / '+str(\"{:.2E}\".format(Decimal(X)))+')'\n",
    "    print str(100*xcp/Xc)+'% / '+str(100*Xp/X)+'% = '+str(RCA)+'\\n \\n'\n",
    "\n",
    "    \n",
    "# example_RCA('chn', 5002, 2003)\n",
    "# example_RCA('and', 7001, 2003)\n",
    "# example_RCA('rwa', 2609, 2005)\n",
    "example_RCA('usa', 7416, 2011)\n",
    "example_RCA('ita', 8703, 2014)\n"
   ]
  },
  {
   "cell_type": "markdown",
   "metadata": {},
   "source": [
    "### Snippet of the dataset and print to latex"
   ]
  },
  {
   "cell_type": "code",
   "execution_count": 4,
   "metadata": {
    "collapsed": false
   },
   "outputs": [
    {
     "name": "stdout",
     "output_type": "stream",
     "text": [
      "\\begin{tabular}{lrlrr}\n",
      "\\toprule\n",
      "{} &  year & ccode &  pcode &             x \\\\\n",
      "\\midrule\n",
      "1024259 &  2010 &   nga &   5515 &  3.557100e+04 \\\\\n",
      "1459751 &  2013 &   mar &   1209 &  6.975807e+06 \\\\\n",
      "1718045 &  2014 &   usa &   8484 &  1.138916e+09 \\\\\n",
      "353922  &  2005 &   grc &   7014 &  4.954500e+04 \\\\\n",
      "1322554 &  2012 &   tgo &   9506 &  1.102900e+04 \\\\\n",
      "\\bottomrule\n",
      "\\end{tabular}\n",
      "\n"
     ]
    }
   ],
   "source": [
    "wt.columns = ['i','year','ccode','pcode','x']\n",
    "print wt[['year','ccode','pcode','x']].sample(5).to_latex()"
   ]
  },
  {
   "cell_type": "markdown",
   "metadata": {},
   "source": [
    "## Now we make up the dataset.\n",
    "### First calculate RCA for all years"
   ]
  },
  {
   "cell_type": "code",
   "execution_count": 3,
   "metadata": {
    "collapsed": false
   },
   "outputs": [],
   "source": [
    "#Crea columnas: 'RCA_yr'\n",
    "\n",
    "RCA_yr = pd.DataFrame()\n",
    "i = 0\n",
    "for yr in range(2003,2015):\n",
    "    RCA = bt.calculateRCA(wt.loc[wt.year == yr], c = 'ccode', p = 'pcode', x = 'x')\n",
    "    \n",
    "    RCA = RCA[['ccode','pcode','RCA']].rename(columns={'RCA': 'RCA_'+str(yr)})\n",
    "    if i:\n",
    "        RCA_yr = RCA_yr.merge(RCA, on=['ccode','pcode'], how = 'outer')\n",
    "    else:\n",
    "        RCA_yr = RCA\n",
    "        i = 1\n",
    "\n",
    "RCA_yr = RCA_yr.fillna(0)\n",
    "\n",
    "RCA_cols = [col for col in RCA_yr if 'RCA' in col]\n",
    "\n",
    "for col in RCA_cols:\n",
    "    RCA_yr[col+'_bin'] = (RCA_yr[col] >= 1).astype(int)\n",
    "    \n"
   ]
  },
  {
   "cell_type": "code",
   "execution_count": 4,
   "metadata": {
    "collapsed": false
   },
   "outputs": [],
   "source": [
    "#Fill non-reported products to make dataset homogeneous.\n",
    "#Keep countries with most products accounted\n",
    "counts = RCA_yr.groupby('ccode').count()['pcode']\n",
    "RCA_yr = RCA_yr.loc[RCA_yr['ccode'].isin(counts.loc[counts > 800].index)]\n",
    "\n",
    "#Fill RCA_yr\n",
    "pcodes = sorted(RCA_yr.pcode.unique())\n",
    "ccodes = sorted(RCA_yr.ccode.unique())\n",
    "\n",
    "filled_RCA_yr = pd.DataFrame()\n",
    "c = 0\n",
    "for ccode in ccodes:\n",
    "    df = RCA_yr.loc[RCA_yr['ccode'] == ccode]\n",
    "    df = df.set_index('pcode').reindex(index = pcodes)\n",
    "    df['ccode'] = ccode\n",
    "    df.fillna(0)\n",
    "    if c == 0:\n",
    "        filled_RCA_yr = df\n",
    "        c = 1\n",
    "    else:\n",
    "        filled_RCA_yr = filled_RCA_yr.append(df)\n",
    "    \n",
    "filled_RCA_yr = filled_RCA_yr.reset_index().fillna(0)\n",
    "\n",
    "#Assign to RCA_yr\n",
    "RCA_yr = filled_RCA_yr  #You may wish to comment out not to overwrite RCA_yr"
   ]
  },
  {
   "cell_type": "markdown",
   "metadata": {},
   "source": [
    "### If you need, create density columns"
   ]
  },
  {
   "cell_type": "code",
   "execution_count": 7,
   "metadata": {
    "collapsed": false
   },
   "outputs": [],
   "source": [
    "#Crea columnas density\n",
    "\n",
    "# w_yr = pd.DataFrame()\n",
    "# i = 0\n",
    "# for yr in range(2003,2015):\n",
    "#     datayr = wt[wt['year']==yr][['ccode','pcode','x']].groupby(['ccode','pcode']).sum()[['x']].reset_index()\n",
    "#     Myr = bt.mcp(data=datayr,c='ccode',p='pcode')\n",
    "#     Wyr = Myr.densities('pcode')\n",
    "    \n",
    "#     Wyr = Wyr[['ccode','pcode','w']].rename(columns={'w': 'w_'+str(yr)})\n",
    "#     if i:\n",
    "#         w_yr = w_yr.merge(Wyr, on=['ccode','pcode'])\n",
    "#     else:\n",
    "#         w_yr = Wyr\n",
    "#         i = 1"
   ]
  },
  {
   "cell_type": "code",
   "execution_count": 8,
   "metadata": {
    "collapsed": true
   },
   "outputs": [],
   "source": [
    "# dh = pd.DataFrame()\n",
    "# i = 0\n",
    "# for yr in range(2003,2005):\n",
    "#     datayr = wt[wt['year']==yr][['ccode','pcode','x']].groupby(['ccode','pcode']).sum()[['x']].reset_index()\n",
    "#     Myr = bt.mcp(data=datayr,c='ccode',p='pcode')\n",
    "#     Wyr = Myr.densities('pcode')\n",
    "    \n",
    "#     Wyr = Wyr[['ccode','pcode','w']].rename(columns={'w': 'w_'+str(yr)})\n",
    "#     if i:\n",
    "#         dh = dh.merge(Wyr, on=['ccode','pcode'])\n",
    "#     else:\n",
    "#         dh = Wyr\n",
    "#         i = 1\n",
    "        \n",
    "# # dh['mean_w'] = dh[['w_2003','w_2004','w_2005']].mean(axis = 1)\n",
    "\n",
    "# # dh[\"w_scaled\"] = dh.groupby(\"ccode\")['mean_w'].rank(pct = True)"
   ]
  },
  {
   "cell_type": "markdown",
   "metadata": {},
   "source": [
    "### This function is used to concatenate observations of different years into a single dataflame. \n",
    "#### You can choose how to choose the periods, i.e. every 1, 2, ... years, or 1, 2, 3... year-long periods, etc. "
   ]
  },
  {
   "cell_type": "code",
   "execution_count": 82,
   "metadata": {
    "collapsed": false
   },
   "outputs": [],
   "source": [
    "#todo lo que cambia con los anios deberia tener el mismo trato que la col de RCA_yr, ejemplo proximity\n",
    "def extend_dataset(data, base_cols = [0], step = 1, binary = True, continuous_period = True):\n",
    "\n",
    "    RCA_bin_cols = data[[col for col in data if 'RCA' and 'bin' in col]]\n",
    "    RCA_yr_cols = data[[col for col in data if 'RCA' in col and 'bin' not in col]]\n",
    "    cp_cols = data[['ccode','pcode']]\n",
    "\n",
    "    c = 0\n",
    "    for i in base_cols:\n",
    "\n",
    "        try:\n",
    "            RCA_fin = RCA_yr_cols.iloc[:, i + step]        \n",
    "            RCA_ini = RCA_yr_cols.iloc[:,i]\n",
    "\n",
    "            RCA_bin_fin = RCA_bin_cols.iloc[:, i+step]\n",
    "            RCA_bin_ini = RCA_bin_cols.iloc[:, i ]        \n",
    "\n",
    "\n",
    "            batch = cp_cols.join([RCA_ini, RCA_fin, RCA_bin_ini, RCA_bin_fin])\n",
    "            batch.columns = ['ccode','pcode','RCA', 'RCA_fin', 'RCA_bin_start', 'RCA_bin_end']\n",
    "\n",
    "            batch['year'] = int(RCA_yr_cols.columns[i][-4:])\n",
    "\n",
    "\n",
    "            if binary:\n",
    "                batch = batch.loc[batch.RCA_bin_start.isin([0, 1]) & batch.RCA_bin_end.isin([0, 1])]\n",
    "                batch.RCA_bin_start = batch.RCA_bin_start.astype(int)\n",
    "                batch.RCA_bin_end = batch.RCA_bin_end.astype(int)\n",
    "\n",
    "            if c == 0:\n",
    "                ext_data = batch\n",
    "                c = 1\n",
    "            else:\n",
    "                ext_data = ext_data.append(batch)\n",
    "        except IndexError: #When you go out of time period\n",
    "            pass\n",
    "    return ext_data\n",
    "\n",
    "# data = RCA_yr\n",
    "# base_cols = range(11)\n",
    "# step = 8\n",
    "# binary = True\n"
   ]
  },
  {
   "cell_type": "code",
   "execution_count": 81,
   "metadata": {
    "collapsed": false
   },
   "outputs": [
    {
     "data": {
      "image/png": "[encoded data removed]",
      "text/plain": [
       "<matplotlib.figure.Figure at 0x7f0df8fee850>"
      ]
     },
     "metadata": {},
     "output_type": "display_data"
    }
   ],
   "source": [
    "ext_data = extend_dataset_test(RCA_yr, base_cols = range(11), step = 8)\n",
    "\n",
    "# ext_data = extend_dataset(RCA_yr, base_cols = range(11), step = 8)\n",
    "# plt.hist(np.log10(ext_data.replace(-np.inf, np.nan).dropna().RCA), 1000, alpha = 0.5, edgecolor = 'None')\n",
    "plt.hist(np.log10(ext_data.loc[ext_data.RCA_fin>0].RCA_fin), 1000, alpha = 0.5, edgecolor = 'None')\n",
    "# plt.hist(ext_data.loc[ext_data.RCA < 10].RCA, 1000, alpha = 0.5, edgecolor = 'None', normed = True)\n",
    "plt.xlim(-1,1)\n",
    "# plt.xlim(.5, 2)\n",
    "# plt.ylim(0,.1)\n",
    "plt.show()"
   ]
  },
  {
   "cell_type": "code",
   "execution_count": 85,
   "metadata": {
    "collapsed": false
   },
   "outputs": [],
   "source": [
    "df = pd.DataFrame()"
   ]
  },
  {
   "cell_type": "markdown",
   "metadata": {},
   "source": [
    "### Compute aggregate exports of country, product and world and merge. "
   ]
  },
  {
   "cell_type": "code",
   "execution_count": 103,
   "metadata": {
    "collapsed": false,
    "scrolled": true
   },
   "outputs": [],
   "source": [
    "coun_trade = wt[['ccode','pcode','year','x']].groupby(['ccode','year']).sum().reset_index()[['ccode','year','x']]\n",
    "coun_trade['Tc'] = np.log10(coun_trade['x'])\n",
    "\n",
    "prod_trade = wt[['ccode','pcode','year','x']].groupby(['pcode','year']).sum().reset_index()[['pcode','year','x']]\n",
    "prod_trade['Tp'] = np.log10(prod_trade['x'])\n",
    "\n",
    "world_trade = wt[['ccode','pcode','year','x']].groupby(['year']).sum().reset_index()[['year','x']]\n",
    "world_trade['Tw'] = np.log10(world_trade['x'])\n",
    "\n",
    "# Tw = np.log10(wt.x.sum())\n",
    "\n",
    "\n",
    "df = extend_dataset(RCA_yr, base_cols = range(11), step = 8)\n",
    "df = df.merge(coun_trade, on = ['ccode', 'year']).merge(prod_trade, on = ['pcode', 'year']).merge(world_trade, on = ['year'])\n",
    "df = df[[u'ccode', u'pcode', u'RCA', u'RCA_fin', u'RCA_bin_start',u'RCA_bin_end', u'year', u'Tc', u'Tp',u'Tw']]"
   ]
  },
  {
   "cell_type": "markdown",
   "metadata": {},
   "source": [
    "### Compute complexity (PCI) and merge"
   ]
  },
  {
   "cell_type": "code",
   "execution_count": 11,
   "metadata": {
    "collapsed": false
   },
   "outputs": [],
   "source": [
    "\n",
    "# M = bt.mcp(data=wt[['ccode','pcode','x']].groupby(['ccode','pcode']).sum()[['x']].reset_index(),\n",
    "#            c='ccode',p='pcode')\n",
    "# W = M.densities('pcode')\n",
    "# C = M.CalculateComplexity()[1]\n",
    "\n",
    "# PCI = pr.merge(C)\n",
    "# PCI['PCI_scaled'] = PCI.rank(pct = True)['PCI']\n",
    "\n",
    "# df = df.merge(PCI[['pcode','PCI_scaled']])"
   ]
  },
  {
   "cell_type": "markdown",
   "metadata": {},
   "source": [
    "### Include exports"
   ]
  },
  {
   "cell_type": "code",
   "execution_count": 104,
   "metadata": {
    "collapsed": false
   },
   "outputs": [
    {
     "name": "stderr",
     "output_type": "stream",
     "text": [
      "/home/miglesia/anaconda2/lib/python2.7/site-packages/IPython/kernel/__main__.py:11: RuntimeWarning: divide by zero encountered in log10\n",
      "/home/miglesia/anaconda2/lib/python2.7/site-packages/IPython/kernel/__main__.py:12: RuntimeWarning: divide by zero encountered in log10\n",
      "/home/miglesia/anaconda2/lib/python2.7/site-packages/IPython/kernel/__main__.py:15: RuntimeWarning: divide by zero encountered in log10\n"
     ]
    }
   ],
   "source": [
    "\n",
    "exports = wt[['year','ccode','pcode','x']]\n",
    "exports['year_end'] = exports['year']\n",
    "df['year_end'] = df['year'] + 1\n",
    "df = df.merge(exports[['year','ccode','pcode','x']], on = ['year', 'ccode', 'pcode'], how = 'left')\n",
    "df = df.merge(exports[['year_end','ccode','pcode','x']], on = ['year_end', 'ccode', 'pcode'], how = 'left')\n",
    "df = df.fillna(0)\n",
    "\n",
    "#Use log exports\n",
    "df = df.rename(columns={'x_x': 'log_xcp', 'x_y': 'log_xcp_f'})\n",
    "df['log_xcp'] = np.log10(df['log_xcp'])\n",
    "df['log_xcp_f'] = np.log10(df['log_xcp_f'])\n",
    "\n",
    "#Add log_RCA\n",
    "df['log_RCA'] = np.log10(df['RCA'])\n",
    "\n",
    "#Add variable T = Tc + Tp - Tw\n",
    "df['T'] = df['Tc'] + df['Tp'] - df['Tw'] \n",
    "\n",
    "#Add growth\n",
    "df['ex_growth'] = df['log_xcp_f'] - df['log_xcp']\n",
    "\n",
    "df.to_csv('fit_data_exports_8yrstep.csv', index = False)"
   ]
  },
  {
   "cell_type": "markdown",
   "metadata": {},
   "source": [
    "# Overview of dataset:\n",
    "### Count countries and products"
   ]
  },
  {
   "cell_type": "code",
   "execution_count": 27,
   "metadata": {
    "collapsed": false
   },
   "outputs": [
    {
     "name": "stdout",
     "output_type": "stream",
     "text": [
      "162\n",
      "1244\n"
     ]
    }
   ],
   "source": [
    "print len(df.ccode.unique())\n",
    "print len(df.pcode.unique())"
   ]
  },
  {
   "cell_type": "markdown",
   "metadata": {},
   "source": [
    "### Distribution of log(RCA)"
   ]
  },
  {
   "cell_type": "code",
   "execution_count": 158,
   "metadata": {
    "collapsed": false
   },
   "outputs": [
    {
     "data": {
      "image/png": "[encoded data removed]",
      "text/plain": [
       "<matplotlib.figure.Figure at 0x7f4380107850>"
      ]
     },
     "metadata": {},
     "output_type": "display_data"
    }
   ],
   "source": [
    "f = df.loc[df.RCA > 0]\n",
    "plt.hist(f.log_RCA.values, 100, normed = 'PDF', edgecolor = 'None', label = 'log(RCA)', alpha = .5, color= '#3f5378')\n",
    "plt.ylabel('PDF',fontsize = 20)\n",
    "\n",
    "dg = df.sample(200000).replace(-np.inf, np.nan).dropna()\n",
    "plt.hist(dg.log_RCA+dg.Tc+dg.Tp-dg.Tw, 70, edgecolor = 'None', normed=True, label = 'log(x)',alpha = .3, color = 'r')\n",
    "\n",
    "T = dg.Tc+dg.Tp-dg.Tw\n",
    "plt.hist(T.unique(), 70, edgecolor = 'None', normed=True, label = 'T',alpha = .3, color = '#ff9800')\n",
    "\n",
    "plt.legend()\n",
    "plt.xlim(-8, 15)\n",
    "plt.show()\n",
    "# df.columns"
   ]
  },
  {
   "cell_type": "markdown",
   "metadata": {},
   "source": [
    "### Distribution of RCA"
   ]
  },
  {
   "cell_type": "code",
   "execution_count": 58,
   "metadata": {
    "collapsed": false
   },
   "outputs": [
    {
     "data": {
      "image/png": "[encoded data removed]",
      "text/plain": [
       "<matplotlib.figure.Figure at 0x7f4389aa7250>"
      ]
     },
     "metadata": {},
     "output_type": "display_data"
    },
    {
     "data": {
      "image/png": "[encoded data removed]",
      "text/plain": [
       "<matplotlib.figure.Figure at 0x7f4389f3d3d0>"
      ]
     },
     "metadata": {},
     "output_type": "display_data"
    }
   ],
   "source": [
    "f = df.loc[(df.RCA < 0.01) & (df.RCA > 0)]\n",
    "plt.hist(f.RCA.values, 1000, normed = 'PDF', edgecolor = 'None')\n",
    "plt.xlabel('RCA',fontsize = 20)\n",
    "plt.ylabel('PDF',fontsize = 20)\n",
    "plt.xlim(0,0.01)\n",
    "plt.show()\n",
    "\n",
    "# # Symmetric RCA\n",
    "# f = df.loc[(df.RCA > 0)]\n",
    "# plt.hist(np.true_divide(f.RCA.values - 1,f.RCA.values + 1), 100, normed = 'PDF', edgecolor = 'None')\n",
    "# plt.xlabel('RCA',fontsize = 20)\n",
    "# plt.ylabel('PDF',fontsize = 20)\n",
    "# plt.show()"
   ]
  },
  {
   "cell_type": "markdown",
   "metadata": {},
   "source": [
    "### Distribution of log(x_cp)"
   ]
  },
  {
   "cell_type": "code",
   "execution_count": 148,
   "metadata": {
    "collapsed": false
   },
   "outputs": [
    {
     "data": {
      "image/png": "[encoded data removed]",
      "text/plain": [
       "<matplotlib.figure.Figure at 0x7f4392a16910>"
      ]
     },
     "metadata": {},
     "output_type": "display_data"
    }
   ],
   "source": [
    "f = df.loc[df.RCA > 0]\n",
    "plt.hist(f.log_RCA.values, 100, normed = 'PDF', edgecolor = 'None', label = 'log(RCA)', color = '#3f5378')\n",
    "plt.ylabel('PDF',fontsize = 20)\n",
    "plt.xlabel('log(RCA)',fontsize = 20)\n",
    "plt.show()"
   ]
  },
  {
   "cell_type": "markdown",
   "metadata": {},
   "source": [
    "### Distribution of T"
   ]
  },
  {
   "cell_type": "code",
   "execution_count": 39,
   "metadata": {
    "collapsed": false
   },
   "outputs": [
    {
     "data": {
      "image/png": "[encoded data removed]",
      "text/plain": [
       "<matplotlib.figure.Figure at 0x7f439132c850>"
      ]
     },
     "metadata": {},
     "output_type": "display_data"
    }
   ],
   "source": [
    "T = dg.Tc+dg.Tp-dg.Tw\n",
    "plt.hist(T.unique(), 100, edgecolor = 'None', normed=True)\n",
    "plt.show()"
   ]
  },
  {
   "cell_type": "markdown",
   "metadata": {},
   "source": [
    "### Distribution of datapoints in the T, log(RCA) plane"
   ]
  },
  {
   "cell_type": "markdown",
   "metadata": {
    "collapsed": false
   },
   "source": [
    "d = df.sample(1000)\n",
    "plt.scatter(d.Tc+d.Xp-d.Xw, d.log_RCA,edgecolor = 'None',alpha = 0.01)\n",
    "plt.plot(np.arange(3,-9,-1), color = 'k')\n",
    "plt.xlim(2,11)\n",
    "plt.ylim(-5,4)\n",
    "plt.xlabel('T = Tc + Tp - Tw')\n",
    "plt.ylabel('log_RCA')\n",
    "plt.show()"
   ]
  },
  {
   "cell_type": "code",
   "execution_count": 62,
   "metadata": {
    "collapsed": false
   },
   "outputs": [
    {
     "data": {
      "image/png": "[encoded data removed]",
      "text/plain": [
       "<matplotlib.figure.Figure at 0x7f438e9f1410>"
      ]
     },
     "metadata": {},
     "output_type": "display_data"
    }
   ],
   "source": [
    "d = df.sample(100000) \n",
    "plt.scatter(d.Tc+d.Tp-d.Tw, d.log_RCA,edgecolor = 'None',alpha = 0.01) \n",
    "plt.plot(np.arange(3,-9,-1), color = 'k') \n",
    "plt.xlim(2,11) \n",
    "plt.ylim(-5,4) \n",
    "plt.xlabel('T = Tc + Tp - Tw') \n",
    "plt.ylabel('log_RCA') \n",
    "plt.show()\n"
   ]
  },
  {
   "cell_type": "code",
   "execution_count": 143,
   "metadata": {
    "collapsed": false
   },
   "outputs": [
    {
     "name": "stdout",
     "output_type": "stream",
     "text": [
      "                            OLS Regression Results                            \n",
      "==============================================================================\n",
      "Dep. Variable:            RCA_bin_end   R-squared:                       0.637\n",
      "Model:                            OLS   Adj. R-squared:                  0.634\n",
      "Method:                 Least Squares   F-statistic:                     181.5\n",
      "Date:                Wed, 27 Sep 2017   Prob (F-statistic):               0.00\n",
      "Time:                        14:14:40   Log-Likelihood:                 893.37\n",
      "No. Observations:                3960   AIC:                            -1709.\n",
      "Df Residuals:                    3921   BIC:                            -1464.\n",
      "Df Model:                          38                                         \n",
      "Covariance Type:            nonrobust                                         \n",
      "=================================================================================\n",
      "                    coef    std err          t      P>|t|      [0.025      0.975]\n",
      "---------------------------------------------------------------------------------\n",
      "RCA_bin_start     0.7621      0.010     73.791      0.000       0.742       0.782\n",
      "ccode_ant        -0.0111      0.015     -0.738      0.460      -0.041       0.018\n",
      "ccode_aut         0.0393      0.013      3.037      0.002       0.014       0.065\n",
      "ccode_aze        -0.0126      0.013     -0.979      0.327      -0.038       0.013\n",
      "ccode_bgr         0.0101      0.013      0.788      0.431      -0.015       0.035\n",
      "ccode_bhs         0.0298      0.013      2.314      0.021       0.005       0.055\n",
      "ccode_blz         0.0227      0.013      1.766      0.078      -0.003       0.048\n",
      "ccode_brn        -0.0126      0.013     -0.979      0.327      -0.038       0.013\n",
      "ccode_cuw        -0.0047      0.024     -0.190      0.849      -0.053       0.043\n",
      "ccode_mac         0.0114      0.013      0.890      0.374      -0.014       0.037\n",
      "ccode_pol         0.0218      0.013      1.691      0.091      -0.003       0.047\n",
      "ccode_prk         0.0224      0.013      1.735      0.083      -0.003       0.048\n",
      "ccode_qat        -0.0126      0.013     -0.979      0.327      -0.038       0.013\n",
      "ccode_rou         0.0168      0.013      1.301      0.193      -0.009       0.042\n",
      "ccode_sgp         0.0341      0.013      2.646      0.008       0.009       0.059\n",
      "ccode_slv         0.0015      0.013      0.115      0.909      -0.024       0.027\n",
      "ccode_sur        -0.0037      0.013     -0.289      0.772      -0.029       0.021\n",
      "ccode_tgo        -0.0063      0.013     -0.492      0.623      -0.031       0.019\n",
      "ccode_usa         0.0659      0.013      4.979      0.000       0.040       0.092\n",
      "ccode_zaf         0.0393      0.013      3.037      0.002       0.014       0.065\n",
      "pcode_307         0.0409      0.014      3.000      0.003       0.014       0.068\n",
      "pcode_508         0.0330      0.014      2.410      0.016       0.006       0.060\n",
      "pcode_1903        0.0090      0.014      0.663      0.507      -0.018       0.036\n",
      "pcode_2935        0.0008      0.014      0.059      0.953      -0.026       0.027\n",
      "pcode_3407        0.0099      0.014      0.734      0.463      -0.017       0.036\n",
      "pcode_3502        0.0111      0.014      0.823      0.411      -0.015       0.038\n",
      "pcode_3903        0.0301      0.014      2.216      0.027       0.003       0.057\n",
      "pcode_3906        0.0205      0.014      1.512      0.131      -0.006       0.047\n",
      "pcode_4003       -0.0110      0.014     -0.811      0.417      -0.038       0.016\n",
      "pcode_4113        0.0179      0.014      1.316      0.188      -0.009       0.044\n",
      "pcode_7003        0.0080      0.014      0.590      0.555      -0.019       0.035\n",
      "pcode_7219        0.0022      0.014      0.165      0.869      -0.024       0.029\n",
      "pcode_7225        0.0061      0.014      0.450      0.653      -0.020       0.033\n",
      "pcode_8215       -0.0170      0.014     -1.254      0.210      -0.044       0.010\n",
      "pcode_8501        0.0220      0.014      1.620      0.105      -0.005       0.049\n",
      "pcode_8602        0.0145      0.014      1.070      0.285      -0.012       0.041\n",
      "pcode_8708        0.0412      0.014      3.023      0.003       0.014       0.068\n",
      "pcode_9004       -0.0047      0.014     -0.349      0.727      -0.031       0.022\n",
      "pcode_9301        0.0244      0.014      1.796      0.073      -0.002       0.051\n",
      "pcode_9608       -0.0071      0.014     -0.527      0.598      -0.034       0.019\n",
      "==============================================================================\n",
      "Omnibus:                     1466.678   Durbin-Watson:                   2.031\n",
      "Prob(Omnibus):                  0.000   Jarque-Bera (JB):            45051.388\n",
      "Skew:                           1.138   Prob(JB):                         0.00\n",
      "Kurtosis:                      19.366   Cond. No.                     1.19e+15\n",
      "==============================================================================\n",
      "\n",
      "Warnings:\n",
      "[1] Standard Errors assume that the covariance matrix of the errors is correctly specified.\n",
      "[2] The smallest eigenvalue is 4.3e-28. This might indicate that there are\n",
      "strong multicollinearity problems or that the design matrix is singular.\n"
     ]
    }
   ],
   "source": [
    "ccode_sel = np.random.choice(df.ccode.unique(), 20)\n",
    "pcode_sel = np.random.choice(df.pcode.unique(), 20)\n",
    "\n",
    "fit_data = df[['ccode','pcode','year','RCA_bin_start','RCA_bin_end']].loc[(df['ccode'].isin(ccode_sel))&\n",
    "                                                                         (df['pcode'].isin(pcode_sel))]\n",
    "\n",
    "fit_data = pd.get_dummies(fit_data, columns=['ccode','pcode'])\n",
    "\n",
    "import statsmodels.api as sm\n",
    "\n",
    "X = fit_data.drop([u'year', u'RCA_bin_end'], axis = 1)\n",
    "y = fit_data['RCA_bin_end']\n",
    "\n",
    "res2 = sm.OLS(y, X).fit()\n",
    "print(res2.summary())"
   ]
  },
  {
   "cell_type": "code",
   "execution_count": null,
   "metadata": {
    "collapsed": true
   },
   "outputs": [],
   "source": [
    "\n",
    "\n",
    "#todo lo que cambia con los anios deberia tener el mismo trato que la col de RCA_yr, ejemplo proximity\n",
    "def extend_dataset(data, base_cols = [0], step = 1, binary = True, continuous_period = True):\n",
    "    \"\"\"\n",
    "    TODO...\n",
    "    \"\"\"\n",
    "\n",
    "#     w_cols = data[[col for col in data if 'w_' in col]]\n",
    "    RCA_bin_cols = data[[col for col in data if 'RCA' and 'bin' in col]]\n",
    "    RCA_yr_cols = data[[col for col in data if 'RCA' in col and 'bin' not in col]]\n",
    "    cp_cols = data[['ccode','pcode']]\n",
    "\n",
    "    c = 0\n",
    "    for i in base_cols:\n",
    "\n",
    "        if continuous_period:\n",
    "            RCA_ini = RCA_yr_cols.iloc[:,i : i + step].mean(axis = 1)\n",
    "#             w_ini = w_cols.iloc[:,i : i + step].mean(axis = 1)\n",
    "            RCA_fin = RCA_yr_cols.iloc[:, i+step  : i+2*step].mean(axis = 1)\n",
    "\n",
    "            RCA_bin_ini = RCA_bin_cols.iloc[:, i : i+step].mean(axis = 1)\n",
    "            RCA_bin_fin = RCA_bin_cols.iloc[:, i+step  : i+2*step].mean(axis = 1)\n",
    "\n",
    "        else:\n",
    "            RCA_ini = RCA_yr_cols.iloc[:,i]\n",
    "            RCA_fin = RCA_yr_cols.iloc[:, i + step]\n",
    "#             w_ini = w_cols.iloc[:,i]\n",
    "\n",
    "            RCA_bin_ini = RCA_bin_cols.iloc[:, i ]\n",
    "            RCA_bin_fin = RCA_bin_cols.iloc[:, i+step]\n",
    "        \n",
    "        \n",
    "#         batch = cp_cols.join([w_ini, RCA_ini, RCA_fin, RCA_bin_ini, RCA_bin_fin])\n",
    "#         batch.columns = ['ccode','pcode','w','RCA', 'RCA_fin', 'RCA_bin_start', 'RCA_bin_end']\n",
    "        \n",
    "        batch = cp_cols.join([RCA_ini, RCA_fin, RCA_bin_ini, RCA_bin_fin])\n",
    "        batch.columns = ['ccode','pcode','RCA', 'RCA_fin', 'RCA_bin_start', 'RCA_bin_end']\n",
    "        \n",
    "        batch['year'] = int(RCA_yr_cols.columns[i][-4:])\n",
    "\n",
    "\n",
    "        if binary:\n",
    "            batch = batch.loc[batch.RCA_bin_start.isin([0, 1]) & batch.RCA_bin_end.isin([0, 1])]\n",
    "            batch.RCA_bin_start = batch.RCA_bin_start.astype(int)\n",
    "            batch.RCA_bin_end = batch.RCA_bin_end.astype(int)\n",
    "\n",
    "        if c == 0:\n",
    "            ext_data = batch\n",
    "            c = 1\n",
    "        else:\n",
    "            ext_data = ext_data.append(batch)\n",
    "    return ext_data\n"
   ]
  }
 ],
 "metadata": {
  "kernelspec": {
   "display_name": "Python 2",
   "language": "python",
   "name": "python2"
  },
  "language_info": {
   "codemirror_mode": {
    "name": "ipython",
    "version": 2
   },
   "file_extension": ".py",
   "mimetype": "text/x-python",
   "name": "python",
   "nbconvert_exporter": "python",
   "pygments_lexer": "ipython2",
   "version": "2.7.13"
  }
 },
 "nbformat": 4,
 "nbformat_minor": 0
}
